{
 "cells": [
  {
   "cell_type": "code",
   "execution_count": 9,
   "metadata": {},
   "outputs": [],
   "source": [
    "import pandas as pd\n",
    "import folium"
   ]
  },
  {
   "cell_type": "code",
   "execution_count": 45,
   "metadata": {},
   "outputs": [
    {
     "name": "stdout",
     "output_type": "stream",
     "text": [
      "Index(['CountryID', 'Country and area', 'Basel Convention', 'CITES',\n",
      "       'Convention on Biological Diversity', 'Convention on Migratory Species',\n",
      "       'Kyoto \\nProtocol', 'Montreal Protocol', 'Paris Agreement',\n",
      "       'Ramsar Convention', 'Rotterdam Convention', 'Stockholm Convention',\n",
      "       'UN Convention on the Law of the Sea',\n",
      "       'UN Convention to Combat Desertification',\n",
      "       'UN Framework Convention on Climate Change',\n",
      "       'World \\nHeritage Convention'],\n",
      "      dtype='object')\n"
     ]
    }
   ],
   "source": [
    "# Read in data from Governance CSV in the data folder\n",
    "df = pd.read_csv('../data/Governance/Governance.csv')\n",
    "#print(df.head())\n",
    "print(df.columns)"
   ]
  },
  {
   "cell_type": "code",
   "execution_count": 46,
   "metadata": {},
   "outputs": [
    {
     "name": "stdout",
     "output_type": "stream",
     "text": [
      "Basel Convention                             1989\n",
      "CITES                                        1974\n",
      "Convention on Biological Diversity           1993\n",
      "Convention on Migratory Species              1983\n",
      "Kyoto \\nProtocol                             1998\n",
      "Montreal Protocol                            1988\n",
      "Paris Agreement                              2016\n",
      "Ramsar Convention                            1975\n",
      "Rotterdam Convention                         1999\n",
      "Stockholm Convention                         2001\n",
      "UN Convention on the Law of the Sea          1982\n",
      "UN Convention to Combat Desertification      1995\n",
      "UN Framework Convention on Climate Change    1992\n",
      "World \\nHeritage Convention                  1973\n",
      "dtype: object\n",
      "14\n"
     ]
    }
   ],
   "source": [
    "# Set Nan values to 2025\n",
    "df = df.fillna('2025')\n",
    "\n",
    "# Replace ... with 9999\n",
    "df = df.replace('...', '9999')\n",
    "\n",
    "# Get a list of the smallest number in each column from the dataframe\n",
    "num_df = df.drop(['CountryID','Country and area'],axis=1)\n",
    "min_list = num_df.min()\n",
    "print(min_list)\n",
    "print(len(min_list))\n"
   ]
  },
  {
   "cell_type": "code",
   "execution_count": 23,
   "metadata": {},
   "outputs": [
    {
     "name": "stdout",
     "output_type": "stream",
     "text": [
      "1988\n"
     ]
    }
   ],
   "source": [
    "# Get the earlies date in every convention or protocol column\n",
    "#df['earliest'] = df[['Convention on Biological Diversity', 'Convention on International Trade in Endangered Species of Wild Fauna and Flora', 'Convention on the Conservation of Migratory Species of Wild Animals', 'International Plant Protection Convention', 'International Treaty on Plant Genetic Resources for Food and Agriculture', 'Protocol on Biosafety to the Convention on Biological Diversity', 'Protocol on Invasive Alien Species to the Convention on Biological Diversity']].min(axis=1)\n",
    "earliest_montreal = (min(df['Montreal Protocol']))\n",
    "earliest_biodiversity = (min(df['Convention on Biological Diversity']))\n",
    "earliest_cites = (min(df['CITES']))\n",
    "earliest_basel = (min(df['Basel Convention']))\n",
    "earliest_kyoto = (min(df['Kyoto \\nProtocol']))\n",
    "earliest_stockholm = (min(df['Stockholm Convention']))\n",
    "earliest_ms = (min(df['Migratory Species']))\n",
    "earliest_paris = (min(df['Paris Agreement']))\n",
    "earliest_ram = (min(df['Rasmar Convention']))\n",
    "earlist_rott = (min(df['Rotterdam Convention']))\n",
    "earliest_migratory = (min(df['Convention on Migratory Species']))\n",
    "earliest_Un"
   ]
  },
  {
   "cell_type": "code",
   "execution_count": null,
   "metadata": {},
   "outputs": [],
   "source": []
  },
  {
   "cell_type": "code",
   "execution_count": null,
   "metadata": {},
   "outputs": [],
   "source": []
  }
 ],
 "metadata": {
  "kernelspec": {
   "display_name": "Python 3",
   "language": "python",
   "name": "python3"
  },
  "language_info": {
   "codemirror_mode": {
    "name": "ipython",
    "version": 3
   },
   "file_extension": ".py",
   "mimetype": "text/x-python",
   "name": "python",
   "nbconvert_exporter": "python",
   "pygments_lexer": "ipython3",
   "version": "3.10.4"
  },
  "orig_nbformat": 4
 },
 "nbformat": 4,
 "nbformat_minor": 2
}
